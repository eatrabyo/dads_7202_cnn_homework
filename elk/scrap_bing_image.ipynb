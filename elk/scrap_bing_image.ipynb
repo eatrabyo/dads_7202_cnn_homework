{
 "cells": [
  {
   "cell_type": "code",
   "execution_count": 6,
   "metadata": {},
   "outputs": [
    {
     "name": "stdout",
     "output_type": "stream",
     "text": [
      "[%] Downloading Images to d:\\DADS\\Semester03\\DADS7202 Deep learning\\dads_7202_cnn_homework\\elk\\dataset\\male Elk\n",
      "[Error]Invalid image, not saving https://cdn.britannica.com/03/94603-050-D74D3709/elk-American-Yellowstone-National-Park-Wyoming.jpg\n",
      "\n",
      "[!] Issue getting: https://cdn.britannica.com/03/94603-050-D74D3709/elk-American-Yellowstone-National-Park-Wyoming.jpg\n",
      "[!] Error:: Invalid image, not saving https://cdn.britannica.com/03/94603-050-D74D3709/elk-American-Yellowstone-National-Park-Wyoming.jpg\n",
      "\n",
      "[Error]Invalid image, not saving https://cdn.britannica.com/32/122932-050-43EE55D3/Elk.jpg\n",
      "\n",
      "[!] Issue getting: https://cdn.britannica.com/32/122932-050-43EE55D3/Elk.jpg\n",
      "[!] Error:: Invalid image, not saving https://cdn.britannica.com/32/122932-050-43EE55D3/Elk.jpg\n",
      "\n",
      "[!] Issue getting: https://cdn.xl.thumbs.canstockphoto.com/young-male-elk-with-horns-very-close-up-national-bison-range-charlo-montana-stock-image_csp1382936.jpg\n",
      "[!] Error:: <urlopen error [Errno 11001] getaddrinfo failed>\n",
      "[%] No more images are available\n",
      "\n",
      "\n",
      "[%] Done. Downloaded 73 images.\n"
     ]
    }
   ],
   "source": [
    "from bing_image_downloader import downloader\n",
    "downloader.download(\"male Elk\", \n",
    "                    limit=200,  \n",
    "                    output_dir='dataset', \n",
    "                    adult_filter_off=False, \n",
    "                    force_replace=False, \n",
    "                    timeout=3000,\n",
    "                    filter='photo',\n",
    "                    verbose=False)"
   ]
  },
  {
   "cell_type": "code",
   "execution_count": 7,
   "metadata": {},
   "outputs": [
    {
     "name": "stdout",
     "output_type": "stream",
     "text": [
      "[%] Downloading Images to d:\\DADS\\Semester03\\DADS7202 Deep learning\\dads_7202_cnn_homework\\elk\\dataset\\Large Elk\n",
      "[Error]Invalid image, not saving https://cdn.britannica.com/03/94603-050-D74D3709/elk-American-Yellowstone-National-Park-Wyoming.jpg\n",
      "\n",
      "[!] Issue getting: https://cdn.britannica.com/03/94603-050-D74D3709/elk-American-Yellowstone-National-Park-Wyoming.jpg\n",
      "[!] Error:: Invalid image, not saving https://cdn.britannica.com/03/94603-050-D74D3709/elk-American-Yellowstone-National-Park-Wyoming.jpg\n",
      "\n",
      "[Error]Invalid image, not saving https://cdn.britannica.com/32/122932-050-43EE55D3/Elk.jpg\n",
      "\n",
      "[!] Issue getting: https://cdn.britannica.com/32/122932-050-43EE55D3/Elk.jpg\n",
      "[!] Error:: Invalid image, not saving https://cdn.britannica.com/32/122932-050-43EE55D3/Elk.jpg\n",
      "\n",
      "[%] No more images are available\n",
      "\n",
      "\n",
      "[%] Done. Downloaded 34 images.\n"
     ]
    }
   ],
   "source": [
    "from bing_image_downloader import downloader\n",
    "downloader.download(\"Large Elk\", \n",
    "                    limit=200,  \n",
    "                    output_dir='dataset', \n",
    "                    adult_filter_off=False, \n",
    "                    force_replace=False, \n",
    "                    timeout=3000,\n",
    "                    filter='photo',\n",
    "                    verbose=False)"
   ]
  },
  {
   "cell_type": "code",
   "execution_count": 8,
   "metadata": {},
   "outputs": [
    {
     "name": "stdout",
     "output_type": "stream",
     "text": [
      "[%] Downloading Images to d:\\DADS\\Semester03\\DADS7202 Deep learning\\dads_7202_cnn_homework\\elk\\dataset\\Adult Elk\n",
      "[!] Issue getting: https://www.firstpeople.us/tim-denny/elk-on-madison-river-yellowstone/coming-to-battle.jpg\n",
      "[!] Error:: <urlopen error [Errno 11001] getaddrinfo failed>\n",
      "[!] Issue getting: https://eatelkmeat.com/wp-content/uploads/2020/10/elk-vs-deer-300x200.jpg\n",
      "[!] Error:: Remote end closed connection without response\n",
      "[!] Issue getting: http://goodtoknow.media.ipcdigital.co.uk/111/00000efbe/d064_orh100000w614/Elk.jpg\n",
      "[!] Error:: HTTP Error 504: Gateway Time-out\n",
      "[!] Issue getting: http://www.firstpeople.us/tim-denny/elk-on-madison-river-yellowstone/coming-to-battle.jpg\n",
      "[!] Error:: <urlopen error [Errno 11002] getaddrinfo failed>\n",
      "[!] Issue getting: https://cdn.xl.thumbs.canstockphoto.com/adult-elk-with-calves-stock-photo_csp5328172.jpg\n",
      "[!] Error:: <urlopen error [Errno 11001] getaddrinfo failed>\n",
      "[%] No more images are available\n",
      "\n",
      "\n",
      "[%] Done. Downloaded 49 images.\n"
     ]
    }
   ],
   "source": [
    "from bing_image_downloader import downloader\n",
    "downloader.download(\"Adult Elk\", \n",
    "                    limit=200,  \n",
    "                    output_dir='dataset', \n",
    "                    adult_filter_off=False, \n",
    "                    force_replace=False, \n",
    "                    timeout=3000,\n",
    "                    filter='photo',\n",
    "                    verbose=False)"
   ]
  },
  {
   "cell_type": "code",
   "execution_count": 10,
   "metadata": {},
   "outputs": [
    {
     "name": "stdout",
     "output_type": "stream",
     "text": [
      "[%] Downloading Images to d:\\DADS\\Semester03\\DADS7202 Deep learning\\dads_7202_cnn_homework\\elk\\dataset\\deer elk\n",
      "[Error]Invalid image, not saving https://cdn.britannica.com/32/122932-050-43EE55D3/Elk.jpg\n",
      "\n",
      "[!] Issue getting: https://cdn.britannica.com/32/122932-050-43EE55D3/Elk.jpg\n",
      "[!] Error:: Invalid image, not saving https://cdn.britannica.com/32/122932-050-43EE55D3/Elk.jpg\n",
      "\n",
      "[Error]Invalid image, not saving https://cdn.britannica.com/03/94603-050-D74D3709/elk-American-Yellowstone-National-Park-Wyoming.jpg\n",
      "\n",
      "[!] Issue getting: https://cdn.britannica.com/03/94603-050-D74D3709/elk-American-Yellowstone-National-Park-Wyoming.jpg\n",
      "[!] Error:: Invalid image, not saving https://cdn.britannica.com/03/94603-050-D74D3709/elk-American-Yellowstone-National-Park-Wyoming.jpg\n",
      "\n",
      "[!] Issue getting: https://eatelkmeat.com/wp-content/uploads/2020/10/elk-deer-comparison.jpg\n",
      "[!] Error:: Remote end closed connection without response\n",
      "[!] Issue getting: https://cdn.wallpapersafari.com/12/48/gnkzGe.jpg\n",
      "[!] Error:: IncompleteRead(81521 bytes read, 215879 more expected)\n",
      "[!] Issue getting: https://sp-images.summitpost.org/987025.JPG?auto=format&amp;fit=max&amp;ixlib=php-2.1.1&amp;q=35&amp;w=1024&amp;s=a3ba88a9ea5366d8f805d1d7049a8f4b\n",
      "[!] Error:: HTTP Error 403: Forbidden\n",
      "[!] Issue getting: https://agriculture.ny.gov/sites/g/files/oee1031/files/media/2019/08/Deer hero.jpg\n",
      "[!] Error:: URL can't contain control characters. '/sites/g/files/oee1031/files/media/2019/08/Deer hero.jpg' (found at least ' ')\n",
      "[Error]Invalid image, not saving https://i.redd.it/d83khqg8wts51.jpg\n",
      "\n",
      "[!] Issue getting: https://i.redd.it/d83khqg8wts51.jpg\n",
      "[!] Error:: Invalid image, not saving https://i.redd.it/d83khqg8wts51.jpg\n",
      "\n",
      "[!] Issue getting: https://sp-images.summitpost.org/987025.JPG?auto=format&amp;fit=max&amp;h=800&amp;ixlib=php-2.1.1&amp;q=35&amp;s=0cf0678ddca4cd88a49c040bdcab30c1\n",
      "[!] Error:: HTTP Error 403: Forbidden\n",
      "[%] No more images are available\n",
      "\n",
      "\n",
      "[%] Done. Downloaded 49 images.\n"
     ]
    }
   ],
   "source": [
    "from bing_image_downloader import downloader\n",
    "downloader.download(\"deer elk\", \n",
    "                    limit=200,  \n",
    "                    output_dir='dataset', \n",
    "                    adult_filter_off=False, \n",
    "                    force_replace=False, \n",
    "                    timeout=3000,\n",
    "                    filter='photo',\n",
    "                    verbose=False)"
   ]
  },
  {
   "cell_type": "code",
   "execution_count": 5,
   "metadata": {},
   "outputs": [
    {
     "name": "stdout",
     "output_type": "stream",
     "text": [
      "[%] Downloading Images to d:\\DADS\\Semester03\\DADS7202 Deep learning\\dads_7202_cnn_homework\\elk\\dataset\\elk female\n",
      "[!] Issue getting: https://activerain.com/image_store/uploads/agents/gayleatfishhawklake/files/Elk female 2016-10-26 05.09.08.jpg\n",
      "[!] Error:: URL can't contain control characters. '/image_store/uploads/agents/gayleatfishhawklake/files/Elk female 2016-10-26 05.09.08.jpg' (found at least ' ')\n",
      "[%] No more images are available\n",
      "\n",
      "\n",
      "[%] Done. Downloaded 42 images.\n"
     ]
    }
   ],
   "source": [
    "from bing_image_downloader import downloader\n",
    "downloader.download(\"elk female\", \n",
    "                    limit=200,  \n",
    "                    output_dir='dataset', \n",
    "                    adult_filter_off=False, \n",
    "                    force_replace=False, \n",
    "                    timeout=3000,\n",
    "                    filter='photo',\n",
    "                    verbose=False)"
   ]
  }
 ],
 "metadata": {
  "kernelspec": {
   "display_name": "dads",
   "language": "python",
   "name": "dads"
  },
  "language_info": {
   "codemirror_mode": {
    "name": "ipython",
    "version": 3
   },
   "file_extension": ".py",
   "mimetype": "text/x-python",
   "name": "python",
   "nbconvert_exporter": "python",
   "pygments_lexer": "ipython3",
   "version": "3.7.12"
  },
  "orig_nbformat": 4
 },
 "nbformat": 4,
 "nbformat_minor": 2
}
